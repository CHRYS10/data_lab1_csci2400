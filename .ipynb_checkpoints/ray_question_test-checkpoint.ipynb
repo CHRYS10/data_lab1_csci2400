{
 "cells": [
  {
   "cell_type": "code",
   "execution_count": 21,
   "metadata": {},
   "outputs": [
    {
     "name": "stdout",
     "output_type": "stream",
     "text": [
      "# 1\n",
      "Base:  1\n",
      "Base squared:  1\n",
      "\n",
      "# 2\n",
      "Base:  3\n",
      "Base squared:  9\n",
      "\n",
      "# 3\n",
      "Base:  5\n",
      "Base squared:  25\n",
      "\n",
      "# 4\n",
      "Base:  7\n",
      "Base squared:  49\n",
      "\n",
      "# 5\n",
      "Base:  9\n",
      "Base squared:  81\n",
      "\n",
      "# 6\n",
      "Base:  11\n",
      "Base squared:  121\n",
      "\n",
      "# 7\n",
      "Base:  13\n",
      "Base squared:  169\n",
      "\n",
      "# 8\n",
      "Base:  15\n",
      "Base squared:  225\n",
      "\n",
      "# 9\n",
      "Base:  17\n",
      "Base squared:  289\n",
      "\n",
      "# 10\n",
      "Base:  19\n",
      "Base squared:  361\n",
      "\n"
     ]
    }
   ],
   "source": [
    "i = 1\n",
    "k = 0\n",
    "for i in  range(20):\n",
    "#     if (k == 10):\n",
    "#         break\n",
    "    if(i%2!=0):\n",
    "        print(\"#\", k+1)\n",
    "        print(\"Base: \", i)\n",
    "        print(\"Base squared: \", i*i)\n",
    "        print()\n",
    "        k +=1\n"
   ]
  },
  {
   "cell_type": "code",
   "execution_count": 18,
   "metadata": {},
   "outputs": [
    {
     "name": "stdout",
     "output_type": "stream",
     "text": [
      "1\n",
      "9\n",
      "25\n",
      "49\n",
      "81\n",
      "121\n",
      "169\n",
      "225\n",
      "289\n",
      "361\n"
     ]
    }
   ],
   "source": [
    "i = 1\n",
    "k = 0\n",
    "while(i < 20):\n",
    "    if(i%2!=0):\n",
    "        print(i*i)\n",
    "    i+=1"
   ]
  },
  {
   "cell_type": "code",
   "execution_count": null,
   "metadata": {},
   "outputs": [],
   "source": []
  }
 ],
 "metadata": {
  "kernelspec": {
   "display_name": "Python 3",
   "language": "python",
   "name": "python3"
  },
  "language_info": {
   "codemirror_mode": {
    "name": "ipython",
    "version": 3
   },
   "file_extension": ".py",
   "mimetype": "text/x-python",
   "name": "python",
   "nbconvert_exporter": "python",
   "pygments_lexer": "ipython3",
   "version": "3.8.5"
  }
 },
 "nbformat": 4,
 "nbformat_minor": 4
}
